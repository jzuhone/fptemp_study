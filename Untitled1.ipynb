{
 "cells": [
  {
   "cell_type": "code",
   "execution_count": 48,
   "metadata": {},
   "outputs": [],
   "source": [
    "from kadi.commands import get_cmds_from_backstop, CommandTable, states\n",
    "from cxotime import CxoTime\n",
    "import numpy as np\n",
    "import json"
   ]
  },
  {
   "cell_type": "code",
   "execution_count": 44,
   "metadata": {},
   "outputs": [],
   "source": [
    "class NpEncoder(json.JSONEncoder):\n",
    "    def default(self, obj):\n",
    "        if isinstance(obj, np.integer):\n",
    "            return int(obj)\n",
    "        elif isinstance(obj, np.floating):\n",
    "            return float(obj)\n",
    "        elif isinstance(obj, np.ndarray):\n",
    "            return obj.tolist()\n",
    "        else:\n",
    "            return super(NpEncoder, self).default(obj)"
   ]
  },
  {
   "cell_type": "code",
   "execution_count": 3,
   "metadata": {},
   "outputs": [],
   "source": [
    "bs_cmds = get_cmds_from_backstop(\"/data/acis/LoadReviews/2020/DEC2120/oflsb/CR356_0104.backstop\")"
   ]
  },
  {
   "cell_type": "code",
   "execution_count": 6,
   "metadata": {},
   "outputs": [],
   "source": [
    "tstart = CxoTime(\"2020:356:18:11:00.839\").secs"
   ]
  },
  {
   "cell_type": "code",
   "execution_count": 7,
   "metadata": {},
   "outputs": [],
   "source": [
    "tstop = CxoTime(\"2020:357:05:28:38.615\").secs"
   ]
  },
  {
   "cell_type": "code",
   "execution_count": 11,
   "metadata": {},
   "outputs": [],
   "source": [
    "rz_cmds = bs_cmds[(bs_cmds[\"time\"] >= tstart) & (bs_cmds[\"time\"] <= tstop)]"
   ]
  },
  {
   "cell_type": "code",
   "execution_count": 17,
   "metadata": {},
   "outputs": [],
   "source": [
    "rz_cmds.remove_column(\"params\")"
   ]
  },
  {
   "cell_type": "code",
   "execution_count": 20,
   "metadata": {},
   "outputs": [],
   "source": [
    "rz_cmds.write(\"rz_template.dat\", format='ascii.commented_header', overwrite=True)"
   ]
  },
  {
   "cell_type": "code",
   "execution_count": 58,
   "metadata": {},
   "outputs": [],
   "source": [
    "rz_cmds = CommandTable.read(\"rz_template.dat\", format='ascii.commented_header')"
   ]
  },
  {
   "cell_type": "code",
   "execution_count": 56,
   "metadata": {},
   "outputs": [],
   "source": [
    "rz_cmds['params'] = np.array(['']*len(rz_cmds))"
   ]
  },
  {
   "cell_type": "code",
   "execution_count": 42,
   "metadata": {},
   "outputs": [],
   "source": [
    "rz_cmds[\"idx\"].dtype = int"
   ]
  },
  {
   "cell_type": "code",
   "execution_count": 57,
   "metadata": {},
   "outputs": [],
   "source": [
    "rz_cmds.write(\"rz_template.dat\", format='ascii.commented_header', overwrite=True)"
   ]
  },
  {
   "cell_type": "code",
   "execution_count": 31,
   "metadata": {},
   "outputs": [],
   "source": [
    "rz_dict = rz_cmds.as_list_of_dict()"
   ]
  },
  {
   "cell_type": "code",
   "execution_count": 59,
   "metadata": {},
   "outputs": [
    {
     "data": {
      "text/html": [
       "<i>CommandTable length=15</i>\n",
       "<table id=\"table140449259025072\" class=\"table-striped table-bordered table-condensed\">\n",
       "<thead><tr><th>idx</th><th>date</th><th>type</th><th>tlmsid</th><th>scs</th><th>step</th><th>time</th><th>timeline_id</th><th>vcdu</th><th>params</th></tr></thead>\n",
       "<thead><tr><th>int64</th><th>str21</th><th>str7</th><th>str10</th><th>int64</th><th>int64</th><th>float64</th><th>int64</th><th>int64</th><th>int64</th></tr></thead>\n",
       "<tr><td>-1</td><td>2020:356:18:16:38.239</td><td>ACISPKT</td><td>AA00000000</td><td>131</td><td>338</td><td>724961867.423</td><td>0</td><td>3722149</td><td>--</td></tr>\n",
       "<tr><td>-1</td><td>2020:356:18:16:42.239</td><td>ACISPKT</td><td>AA00000000</td><td>131</td><td>342</td><td>724961871.423</td><td>0</td><td>3722164</td><td>--</td></tr>\n",
       "<tr><td>-1</td><td>2020:356:18:16:46.239</td><td>ACISPKT</td><td>WSPOW00000</td><td>131</td><td>346</td><td>724961875.423</td><td>0</td><td>3722180</td><td>--</td></tr>\n",
       "<tr><td>-1</td><td>2020:356:18:17:10.239</td><td>ACISPKT</td><td>WSPOW0CF3F</td><td>131</td><td>352</td><td>724961899.423</td><td>0</td><td>3722274</td><td>--</td></tr>\n",
       "<tr><td>-1</td><td>2020:356:18:18:21.239</td><td>ACISPKT</td><td>XTZ0000005</td><td>131</td><td>453</td><td>724961970.423</td><td>0</td><td>3722551</td><td>--</td></tr>\n",
       "<tr><td>-1</td><td>2020:356:19:44:33.239</td><td>ACISPKT</td><td>AA00000000</td><td>131</td><td>474</td><td>724967142.423</td><td>0</td><td>3742734</td><td>--</td></tr>\n",
       "<tr><td>-1</td><td>2020:356:19:47:33.239</td><td>ACISPKT</td><td>AA00000000</td><td>131</td><td>478</td><td>724967322.423</td><td>0</td><td>3743437</td><td>--</td></tr>\n",
       "<tr><td>-1</td><td>2020:356:19:47:42.239</td><td>ACISPKT</td><td>WSPOW00000</td><td>131</td><td>482</td><td>724967331.423</td><td>0</td><td>3743472</td><td>--</td></tr>\n",
       "<tr><td>-1</td><td>2020:356:23:22:14.816</td><td>ACISPKT</td><td>WSPOW0002A</td><td>131</td><td>500</td><td>724980204.0</td><td>0</td><td>3793706</td><td>--</td></tr>\n",
       "<tr><td>-1</td><td>2020:357:03:41:32.615</td><td>ACISPKT</td><td>AA00000000</td><td>131</td><td>514</td><td>724995761.799</td><td>0</td><td>3854419</td><td>--</td></tr>\n",
       "<tr><td>-1</td><td>2020:357:03:41:36.615</td><td>ACISPKT</td><td>AA00000000</td><td>131</td><td>518</td><td>724995765.799</td><td>0</td><td>3854435</td><td>--</td></tr>\n",
       "<tr><td>-1</td><td>2020:357:03:41:40.615</td><td>ACISPKT</td><td>WSPOW00000</td><td>131</td><td>522</td><td>724995769.799</td><td>0</td><td>3854451</td><td>--</td></tr>\n",
       "<tr><td>-1</td><td>2020:357:03:42:04.615</td><td>ACISPKT</td><td>WSPOW3F03F</td><td>131</td><td>528</td><td>724995793.799</td><td>0</td><td>3854544</td><td>--</td></tr>\n",
       "<tr><td>-1</td><td>2020:357:03:43:15.615</td><td>ACISPKT</td><td>XTZ0000005</td><td>131</td><td>629</td><td>724995864.799</td><td>0</td><td>3854821</td><td>--</td></tr>\n",
       "<tr><td>-1</td><td>2020:357:05:25:38.615</td><td>ACISPKT</td><td>AA00000000</td><td>131</td><td>648</td><td>725002007.799</td><td>0</td><td>3878794</td><td>--</td></tr>\n",
       "</table>"
      ],
      "text/plain": [
       "<CommandTable length=15>\n",
       " idx           date           type    tlmsid   ... timeline_id   vcdu  params\n",
       "int64         str21           str7    str10    ...    int64     int64  int64 \n",
       "----- --------------------- ------- ---------- ... ----------- ------- ------\n",
       "   -1 2020:356:18:16:38.239 ACISPKT AA00000000 ...           0 3722149     --\n",
       "   -1 2020:356:18:16:42.239 ACISPKT AA00000000 ...           0 3722164     --\n",
       "   -1 2020:356:18:16:46.239 ACISPKT WSPOW00000 ...           0 3722180     --\n",
       "   -1 2020:356:18:17:10.239 ACISPKT WSPOW0CF3F ...           0 3722274     --\n",
       "   -1 2020:356:18:18:21.239 ACISPKT XTZ0000005 ...           0 3722551     --\n",
       "   -1 2020:356:19:44:33.239 ACISPKT AA00000000 ...           0 3742734     --\n",
       "   -1 2020:356:19:47:33.239 ACISPKT AA00000000 ...           0 3743437     --\n",
       "   -1 2020:356:19:47:42.239 ACISPKT WSPOW00000 ...           0 3743472     --\n",
       "   -1 2020:356:23:22:14.816 ACISPKT WSPOW0002A ...           0 3793706     --\n",
       "   -1 2020:357:03:41:32.615 ACISPKT AA00000000 ...           0 3854419     --\n",
       "   -1 2020:357:03:41:36.615 ACISPKT AA00000000 ...           0 3854435     --\n",
       "   -1 2020:357:03:41:40.615 ACISPKT WSPOW00000 ...           0 3854451     --\n",
       "   -1 2020:357:03:42:04.615 ACISPKT WSPOW3F03F ...           0 3854544     --\n",
       "   -1 2020:357:03:43:15.615 ACISPKT XTZ0000005 ...           0 3854821     --\n",
       "   -1 2020:357:05:25:38.615 ACISPKT AA00000000 ...           0 3878794     --"
      ]
     },
     "execution_count": 59,
     "metadata": {},
     "output_type": "execute_result"
    }
   ],
   "source": [
    "rz_cmds"
   ]
  },
  {
   "cell_type": "code",
   "execution_count": 52,
   "metadata": {},
   "outputs": [],
   "source": [
    "continuity = {\n",
    "    'ccd_count': 4,\n",
    "    'fep_count': 4,\n",
    "    'clocking': 0,\n",
    "    'vid_board': 1,\n",
    "    'simpos': -99616.0,\n",
    "    'q1': 1.0,\n",
    "    'q2': 0.0,\n",
    "    'q3': 0.0,\n",
    "    'q4': 0.0\n",
    "}\n",
    "continuity['__dates__'] = {k: \"2020:356:18:00:00.000\" for k in continuity}"
   ]
  },
  {
   "cell_type": "code",
   "execution_count": 54,
   "metadata": {},
   "outputs": [
    {
     "data": {
      "text/html": [
       "<i>Table length=19</i>\n",
       "<table id=\"table140449259028000\" class=\"table-striped table-bordered table-condensed\">\n",
       "<thead><tr><th>datestart</th><th>datestop</th><th>tstart</th><th>tstop</th><th>ccd_count</th><th>clocking</th><th>dec</th><th>dither</th><th>fep_count</th><th>hetg</th><th>letg</th><th>obsid</th><th>off_nom_roll</th><th>pcad_mode</th><th>pitch</th><th>power_cmd</th><th>q1</th><th>q2</th><th>q3</th><th>q4</th><th>ra</th><th>roll</th><th>si_mode</th><th>simfa_pos</th><th>simpos</th><th>targ_q1</th><th>targ_q2</th><th>targ_q3</th><th>targ_q4</th><th>vid_board</th><th>trans_keys</th></tr></thead>\n",
       "<thead><tr><th>str21</th><th>str21</th><th>float64</th><th>float64</th><th>int64</th><th>int64</th><th>float64</th><th>str4</th><th>int64</th><th>str4</th><th>str4</th><th>int64</th><th>float64</th><th>str4</th><th>float64</th><th>str10</th><th>float64</th><th>float64</th><th>float64</th><th>float64</th><th>float64</th><th>float64</th><th>str8</th><th>int64</th><th>int64</th><th>float64</th><th>float64</th><th>float64</th><th>float64</th><th>int64</th><th>object</th></tr></thead>\n",
       "<tr><td>2020:356:18:16:38.239</td><td>2020:356:18:16:42.239</td><td>724961867.423</td><td>724961871.423</td><td>4</td><td>0</td><td>34.049515682077065</td><td>ENAB</td><td>4</td><td>RETR</td><td>RETR</td><td>24893</td><td>-3.1785797793967845</td><td>NPNT</td><td>158.43721436962903</td><td>AA00000000</td><td>-0.585963842</td><td>-0.587134183</td><td>0.0765623966</td><td>0.553225114</td><td>68.85948690369356</td><td>242.99963522571534</td><td>TE_006CC</td><td>-468</td><td>75624</td><td>-0.585963842</td><td>-0.587134183</td><td>0.0765623966</td><td>0.553225114</td><td>1</td><td>clocking,power_cmd</td></tr>\n",
       "<tr><td>2020:356:18:16:42.239</td><td>2020:356:18:16:46.239</td><td>724961871.423</td><td>724961875.423</td><td>4</td><td>0</td><td>34.049515682077065</td><td>ENAB</td><td>4</td><td>RETR</td><td>RETR</td><td>24893</td><td>-3.1785797793967845</td><td>NPNT</td><td>158.43721436962903</td><td>AA00000000</td><td>-0.585963842</td><td>-0.587134183</td><td>0.0765623966</td><td>0.553225114</td><td>68.85948690369356</td><td>242.99963522571534</td><td>TE_006CC</td><td>-468</td><td>75624</td><td>-0.585963842</td><td>-0.587134183</td><td>0.0765623966</td><td>0.553225114</td><td>1</td><td>clocking,power_cmd</td></tr>\n",
       "<tr><td>2020:356:18:16:46.239</td><td>2020:356:18:17:10.239</td><td>724961875.423</td><td>724961899.423</td><td>0</td><td>0</td><td>34.049515682077065</td><td>ENAB</td><td>0</td><td>RETR</td><td>RETR</td><td>24893</td><td>-3.1785797793967845</td><td>NPNT</td><td>158.43721436962903</td><td>WSPOW00000</td><td>-0.585963842</td><td>-0.587134183</td><td>0.0765623966</td><td>0.553225114</td><td>68.85948690369356</td><td>242.99963522571534</td><td>TE_006CC</td><td>-468</td><td>75624</td><td>-0.585963842</td><td>-0.587134183</td><td>0.0765623966</td><td>0.553225114</td><td>0</td><td>ccd_count,clocking,fep_count,power_cmd,vid_board</td></tr>\n",
       "<tr><td>2020:356:18:17:10.239</td><td>2020:356:18:18:21.239</td><td>724961899.423</td><td>724961970.423</td><td>6</td><td>0</td><td>34.049515682077065</td><td>ENAB</td><td>6</td><td>RETR</td><td>RETR</td><td>24893</td><td>-3.1785797793967845</td><td>NPNT</td><td>158.43721436962903</td><td>WSPOW0CF3F</td><td>-0.585963842</td><td>-0.587134183</td><td>0.0765623966</td><td>0.553225114</td><td>68.85948690369356</td><td>242.99963522571534</td><td>TE_006CC</td><td>-468</td><td>75624</td><td>-0.585963842</td><td>-0.587134183</td><td>0.0765623966</td><td>0.553225114</td><td>1</td><td>ccd_count,clocking,fep_count,power_cmd,vid_board</td></tr>\n",
       "<tr><td>2020:356:18:18:21.239</td><td>2020:356:19:44:33.239</td><td>724961970.423</td><td>724967142.423</td><td>6</td><td>1</td><td>34.049515682077065</td><td>ENAB</td><td>6</td><td>RETR</td><td>RETR</td><td>24893</td><td>-3.1785797793967845</td><td>NPNT</td><td>158.43721436962903</td><td>XTZ0000005</td><td>-0.585963842</td><td>-0.587134183</td><td>0.0765623966</td><td>0.553225114</td><td>68.85948690369356</td><td>242.99963522571534</td><td>TE_006CC</td><td>-468</td><td>75624</td><td>-0.585963842</td><td>-0.587134183</td><td>0.0765623966</td><td>0.553225114</td><td>1</td><td>clocking,power_cmd</td></tr>\n",
       "<tr><td>2020:356:19:44:33.239</td><td>2020:356:19:47:33.239</td><td>724967142.423</td><td>724967322.423</td><td>6</td><td>0</td><td>34.049515682077065</td><td>ENAB</td><td>6</td><td>RETR</td><td>RETR</td><td>24893</td><td>-3.1785797793967845</td><td>NPNT</td><td>158.43721436962903</td><td>AA00000000</td><td>-0.585963842</td><td>-0.587134183</td><td>0.0765623966</td><td>0.553225114</td><td>68.85948690369356</td><td>242.99963522571534</td><td>TE_006CC</td><td>-468</td><td>75624</td><td>-0.585963842</td><td>-0.587134183</td><td>0.0765623966</td><td>0.553225114</td><td>1</td><td>clocking,power_cmd</td></tr>\n",
       "<tr><td>2020:356:19:47:33.239</td><td>2020:356:19:47:42.239</td><td>724967322.423</td><td>724967331.423</td><td>6</td><td>0</td><td>34.049515682077065</td><td>ENAB</td><td>6</td><td>RETR</td><td>RETR</td><td>24893</td><td>-3.1785797793967845</td><td>NPNT</td><td>158.43721436962903</td><td>AA00000000</td><td>-0.585963842</td><td>-0.587134183</td><td>0.0765623966</td><td>0.553225114</td><td>68.85948690369356</td><td>242.99963522571534</td><td>TE_006CC</td><td>-468</td><td>75624</td><td>-0.585963842</td><td>-0.587134183</td><td>0.0765623966</td><td>0.553225114</td><td>1</td><td>clocking,power_cmd</td></tr>\n",
       "<tr><td>2020:356:19:47:42.239</td><td>2020:356:20:32:10.816</td><td>724967331.423</td><td>724970000.000</td><td>0</td><td>0</td><td>34.049515682077065</td><td>ENAB</td><td>0</td><td>RETR</td><td>RETR</td><td>24893</td><td>-3.1785797793967845</td><td>NPNT</td><td>158.43721436962903</td><td>WSPOW00000</td><td>-0.585963842</td><td>-0.587134183</td><td>0.0765623966</td><td>0.553225114</td><td>68.85948690369356</td><td>242.99963522571534</td><td>TE_006CC</td><td>-468</td><td>75624</td><td>-0.585963842</td><td>-0.587134183</td><td>0.0765623966</td><td>0.553225114</td><td>0</td><td>ccd_count,clocking,fep_count,power_cmd,vid_board</td></tr>\n",
       "<tr><td>2020:356:20:32:10.816</td><td>2020:356:23:18:50.816</td><td>724970000.000</td><td>724980000.000</td><td>0</td><td>0</td><td>34.049515682077065</td><td>ENAB</td><td>0</td><td>RETR</td><td>RETR</td><td>24893</td><td>-3.3578931166451866</td><td>NPNT</td><td>158.33956931803806</td><td>WSPOW00000</td><td>-0.585963842</td><td>-0.587134183</td><td>0.0765623966</td><td>0.553225114</td><td>68.85948690369356</td><td>242.99963522571534</td><td>TE_006CC</td><td>-468</td><td>75624</td><td>-0.585963842</td><td>-0.587134183</td><td>0.0765623966</td><td>0.553225114</td><td>0</td><td>off_nom_roll,pitch</td></tr>\n",
       "<tr><td>2020:356:23:18:50.816</td><td>2020:356:23:22:14.816</td><td>724980000.000</td><td>724980204.000</td><td>0</td><td>0</td><td>34.049515682077065</td><td>ENAB</td><td>0</td><td>RETR</td><td>RETR</td><td>24893</td><td>-3.5356736454015163</td><td>NPNT</td><td>158.2417328342584</td><td>WSPOW00000</td><td>-0.585963842</td><td>-0.587134183</td><td>0.0765623966</td><td>0.553225114</td><td>68.85948690369356</td><td>242.99963522571534</td><td>TE_006CC</td><td>-468</td><td>75624</td><td>-0.585963842</td><td>-0.587134183</td><td>0.0765623966</td><td>0.553225114</td><td>0</td><td>off_nom_roll,pitch</td></tr>\n",
       "<tr><td>2020:356:23:22:14.816</td><td>2020:357:02:05:30.816</td><td>724980204.000</td><td>724990000.000</td><td>0</td><td>0</td><td>34.049515682077065</td><td>ENAB</td><td>3</td><td>RETR</td><td>RETR</td><td>24893</td><td>-3.5356736454015163</td><td>NPNT</td><td>158.2417328342584</td><td>WSPOW0002A</td><td>-0.585963842</td><td>-0.587134183</td><td>0.0765623966</td><td>0.553225114</td><td>68.85948690369356</td><td>242.99963522571534</td><td>TE_006CC</td><td>-468</td><td>75624</td><td>-0.585963842</td><td>-0.587134183</td><td>0.0765623966</td><td>0.553225114</td><td>0</td><td>ccd_count,clocking,fep_count,power_cmd,vid_board</td></tr>\n",
       "<tr><td>2020:357:02:05:30.816</td><td>2020:357:03:41:32.615</td><td>724990000.000</td><td>724995761.799</td><td>0</td><td>0</td><td>34.049515682077065</td><td>ENAB</td><td>3</td><td>RETR</td><td>RETR</td><td>24893</td><td>-3.711939011623997</td><td>NPNT</td><td>158.14370750029863</td><td>WSPOW0002A</td><td>-0.585963842</td><td>-0.587134183</td><td>0.0765623966</td><td>0.553225114</td><td>68.85948690369356</td><td>242.99963522571534</td><td>TE_006CC</td><td>-468</td><td>75624</td><td>-0.585963842</td><td>-0.587134183</td><td>0.0765623966</td><td>0.553225114</td><td>0</td><td>off_nom_roll,pitch</td></tr>\n",
       "<tr><td>2020:357:03:41:32.615</td><td>2020:357:03:41:36.615</td><td>724995761.799</td><td>724995765.799</td><td>0</td><td>0</td><td>34.049515682077065</td><td>ENAB</td><td>3</td><td>RETR</td><td>RETR</td><td>24893</td><td>-3.711939011623997</td><td>NPNT</td><td>158.14370750029863</td><td>AA00000000</td><td>-0.585963842</td><td>-0.587134183</td><td>0.0765623966</td><td>0.553225114</td><td>68.85948690369356</td><td>242.99963522571534</td><td>TE_006CC</td><td>-468</td><td>75624</td><td>-0.585963842</td><td>-0.587134183</td><td>0.0765623966</td><td>0.553225114</td><td>0</td><td>clocking,power_cmd</td></tr>\n",
       "<tr><td>2020:357:03:41:36.615</td><td>2020:357:03:41:40.615</td><td>724995765.799</td><td>724995769.799</td><td>0</td><td>0</td><td>34.049515682077065</td><td>ENAB</td><td>3</td><td>RETR</td><td>RETR</td><td>24893</td><td>-3.711939011623997</td><td>NPNT</td><td>158.14370750029863</td><td>AA00000000</td><td>-0.585963842</td><td>-0.587134183</td><td>0.0765623966</td><td>0.553225114</td><td>68.85948690369356</td><td>242.99963522571534</td><td>TE_006CC</td><td>-468</td><td>75624</td><td>-0.585963842</td><td>-0.587134183</td><td>0.0765623966</td><td>0.553225114</td><td>0</td><td>clocking,power_cmd</td></tr>\n",
       "<tr><td>2020:357:03:41:40.615</td><td>2020:357:03:42:04.615</td><td>724995769.799</td><td>724995793.799</td><td>0</td><td>0</td><td>34.049515682077065</td><td>ENAB</td><td>0</td><td>RETR</td><td>RETR</td><td>24893</td><td>-3.711939011623997</td><td>NPNT</td><td>158.14370750029863</td><td>WSPOW00000</td><td>-0.585963842</td><td>-0.587134183</td><td>0.0765623966</td><td>0.553225114</td><td>68.85948690369356</td><td>242.99963522571534</td><td>TE_006CC</td><td>-468</td><td>75624</td><td>-0.585963842</td><td>-0.587134183</td><td>0.0765623966</td><td>0.553225114</td><td>0</td><td>ccd_count,clocking,fep_count,power_cmd,vid_board</td></tr>\n",
       "<tr><td>2020:357:03:42:04.615</td><td>2020:357:03:43:15.615</td><td>724995793.799</td><td>724995864.799</td><td>6</td><td>0</td><td>34.049515682077065</td><td>ENAB</td><td>6</td><td>RETR</td><td>RETR</td><td>24893</td><td>-3.711939011623997</td><td>NPNT</td><td>158.14370750029863</td><td>WSPOW3F03F</td><td>-0.585963842</td><td>-0.587134183</td><td>0.0765623966</td><td>0.553225114</td><td>68.85948690369356</td><td>242.99963522571534</td><td>TE_006CC</td><td>-468</td><td>75624</td><td>-0.585963842</td><td>-0.587134183</td><td>0.0765623966</td><td>0.553225114</td><td>1</td><td>ccd_count,clocking,fep_count,power_cmd,vid_board</td></tr>\n",
       "<tr><td>2020:357:03:43:15.615</td><td>2020:357:04:52:10.816</td><td>724995864.799</td><td>725000000.000</td><td>6</td><td>1</td><td>34.049515682077065</td><td>ENAB</td><td>6</td><td>RETR</td><td>RETR</td><td>24893</td><td>-3.711939011623997</td><td>NPNT</td><td>158.14370750029863</td><td>XTZ0000005</td><td>-0.585963842</td><td>-0.587134183</td><td>0.0765623966</td><td>0.553225114</td><td>68.85948690369356</td><td>242.99963522571534</td><td>TE_006CC</td><td>-468</td><td>75624</td><td>-0.585963842</td><td>-0.587134183</td><td>0.0765623966</td><td>0.553225114</td><td>1</td><td>clocking,power_cmd</td></tr>\n",
       "<tr><td>2020:357:04:52:10.816</td><td>2020:357:05:25:38.615</td><td>725000000.000</td><td>725002007.799</td><td>6</td><td>1</td><td>34.049515682077065</td><td>ENAB</td><td>6</td><td>RETR</td><td>RETR</td><td>24893</td><td>-3.8867066568196833</td><td>NPNT</td><td>158.04549585449945</td><td>XTZ0000005</td><td>-0.585963842</td><td>-0.587134183</td><td>0.0765623966</td><td>0.553225114</td><td>68.85948690369356</td><td>242.99963522571534</td><td>TE_006CC</td><td>-468</td><td>75624</td><td>-0.585963842</td><td>-0.587134183</td><td>0.0765623966</td><td>0.553225114</td><td>1</td><td>off_nom_roll,pitch</td></tr>\n",
       "<tr><td>2020:357:05:25:38.615</td><td>2020:357:05:25:38.615</td><td>725002007.799</td><td>725002007.799</td><td>6</td><td>0</td><td>34.049515682077065</td><td>ENAB</td><td>6</td><td>RETR</td><td>RETR</td><td>24893</td><td>-3.8867066568196833</td><td>NPNT</td><td>158.04549585449945</td><td>AA00000000</td><td>-0.585963842</td><td>-0.587134183</td><td>0.0765623966</td><td>0.553225114</td><td>68.85948690369356</td><td>242.99963522571534</td><td>TE_006CC</td><td>-468</td><td>75624</td><td>-0.585963842</td><td>-0.587134183</td><td>0.0765623966</td><td>0.553225114</td><td>1</td><td>clocking,power_cmd</td></tr>\n",
       "</table>"
      ],
      "text/plain": [
       "<Table length=19>\n",
       "      datestart       ...                    trans_keys                   \n",
       "        str21         ...                      object                     \n",
       "--------------------- ... ------------------------------------------------\n",
       "2020:356:18:16:38.239 ...                               clocking,power_cmd\n",
       "2020:356:18:16:42.239 ...                               clocking,power_cmd\n",
       "2020:356:18:16:46.239 ... ccd_count,clocking,fep_count,power_cmd,vid_board\n",
       "2020:356:18:17:10.239 ... ccd_count,clocking,fep_count,power_cmd,vid_board\n",
       "2020:356:18:18:21.239 ...                               clocking,power_cmd\n",
       "2020:356:19:44:33.239 ...                               clocking,power_cmd\n",
       "2020:356:19:47:33.239 ...                               clocking,power_cmd\n",
       "2020:356:19:47:42.239 ... ccd_count,clocking,fep_count,power_cmd,vid_board\n",
       "2020:356:20:32:10.816 ...                               off_nom_roll,pitch\n",
       "2020:356:23:18:50.816 ...                               off_nom_roll,pitch\n",
       "2020:356:23:22:14.816 ... ccd_count,clocking,fep_count,power_cmd,vid_board\n",
       "2020:357:02:05:30.816 ...                               off_nom_roll,pitch\n",
       "2020:357:03:41:32.615 ...                               clocking,power_cmd\n",
       "2020:357:03:41:36.615 ...                               clocking,power_cmd\n",
       "2020:357:03:41:40.615 ... ccd_count,clocking,fep_count,power_cmd,vid_board\n",
       "2020:357:03:42:04.615 ... ccd_count,clocking,fep_count,power_cmd,vid_board\n",
       "2020:357:03:43:15.615 ...                               clocking,power_cmd\n",
       "2020:357:04:52:10.816 ...                               off_nom_roll,pitch\n",
       "2020:357:05:25:38.615 ...                               clocking,power_cmd"
      ]
     },
     "execution_count": 54,
     "metadata": {},
     "output_type": "execute_result"
    }
   ],
   "source": [
    "states.get_states(cmds=rz_cmds, continuity=continuity)"
   ]
  },
  {
   "cell_type": "code",
   "execution_count": null,
   "metadata": {},
   "outputs": [],
   "source": []
  }
 ],
 "metadata": {
  "kernelspec": {
   "display_name": "Python [conda env:ska]",
   "language": "python",
   "name": "conda-env-ska-py"
  },
  "language_info": {
   "codemirror_mode": {
    "name": "ipython",
    "version": 3
   },
   "file_extension": ".py",
   "mimetype": "text/x-python",
   "name": "python",
   "nbconvert_exporter": "python",
   "pygments_lexer": "ipython3",
   "version": "3.8.3"
  }
 },
 "nbformat": 4,
 "nbformat_minor": 4
}
