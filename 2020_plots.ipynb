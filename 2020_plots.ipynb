{
 "cells": [
  {
   "cell_type": "code",
   "execution_count": 1,
   "metadata": {},
   "outputs": [],
   "source": [
    "import h5py\n",
    "import numpy as np\n",
    "import matplotlib.pyplot as plt\n",
    "from astropy.constants import R_earth\n",
    "from astropy.coordinates import solar_system_ephemeris\n",
    "from glob import glob\n",
    "from fptemp_study import RunFPTempModels\n",
    "from collections import defaultdict\n",
    "from sparkles.roll_optimize import allowed_rolldev"
   ]
  },
  {
   "cell_type": "code",
   "execution_count": 2,
   "metadata": {},
   "outputs": [],
   "source": [
    "runner = RunFPTempModels(\"2021:001:00:00:00\", \"2023:365:23:59:59\")"
   ]
  },
  {
   "cell_type": "code",
   "execution_count": 3,
   "metadata": {},
   "outputs": [],
   "source": [
    "tini = \"m109\""
   ]
  },
  {
   "cell_type": "code",
   "execution_count": 4,
   "metadata": {},
   "outputs": [],
   "source": [
    "solar_system_ephemeris.set('jpl')\n",
    "R_e = R_earth.to_value(\"km\")"
   ]
  },
  {
   "cell_type": "code",
   "execution_count": 5,
   "metadata": {},
   "outputs": [],
   "source": [
    "fns = glob(f\"data/acisfp_model_perigee_2019_*{tini}.h5\")\n",
    "fns += glob(f\"data/acisfp_model_perigee_2020_*{tini}.h5\")\n",
    "fns.sort()"
   ]
  },
  {
   "cell_type": "code",
   "execution_count": 6,
   "metadata": {},
   "outputs": [
    {
     "name": "stdout",
     "output_type": "stream",
     "text": [
      "819\n"
     ]
    }
   ],
   "source": [
    "print(len(fns))"
   ]
  },
  {
   "cell_type": "code",
   "execution_count": 7,
   "metadata": {},
   "outputs": [],
   "source": [
    "years = [fn.split(\"_\")[4] for fn in fns]\n",
    "unique_years = list(set(years))\n",
    "unique_years.sort()\n",
    "num_uy = len(unique_years)"
   ]
  },
  {
   "cell_type": "code",
   "execution_count": 8,
   "metadata": {},
   "outputs": [],
   "source": [
    "plt.rc(\"font\", size=17)\n",
    "plt.rc(\"axes\", linewidth=2)\n",
    "current_year = \"\"\n",
    "fig, axes = plt.subplots(nrows=3, ncols=num_uy, figsize=(20,20))\n",
    "tmin = defaultdict(lambda: 1.0e99) \n",
    "tmax = defaultdict(lambda: -1.0e99) \n",
    "bad_pitches = 0\n",
    "bad_rolls = 0\n",
    "for i, fn in enumerate(fns):\n",
    "    year = years[i]\n",
    "    j = unique_years.index(year)\n",
    "    if year != current_year:\n",
    "        current_year = year\n",
    "    with h5py.File(fn, \"r\") as f:\n",
    "        pitch = f[\"pitch\"][()]\n",
    "        roll = f['roll'][()]\n",
    "        if pitch.min() < 46.2:\n",
    "            #print(\"oops!\", pitch.min())\n",
    "            bad_pitches += 1\n",
    "            continue\n",
    "        droll = allowed_rolldev(pitch).data\n",
    "        if np.logical_or(roll < -droll, roll > roll).any():\n",
    "            #print(\"bad roll\", roll.min(), roll.max())\n",
    "            bad_rolls += 1\n",
    "            continue\n",
    "        times = f['times'][()]*1.0e-3\n",
    "        r = np.sqrt(\n",
    "            f[\"ephem_x\"][()]**2+\n",
    "            f[\"ephem_y\"][()]**2+\n",
    "            f[\"ephem_z\"][()]**2\n",
    "        )*1.0e-3\n",
    "        tperigee = times[np.argmin(r)]\n",
    "        #tperigee = runner.per_times[i]*1.0e-3\n",
    "        times -= tperigee\n",
    "        t = f['ephem_t'][()]*1.0e-3-tperigee\n",
    "        tmin[j] = min(times[0], tmin[j])\n",
    "        tmax[j] = max(times[-1], tmax[j])\n",
    "        a = r - R_e\n",
    "        temp = f['fptemp'][()]\n",
    "        norbits = temp.shape[0]\n",
    "        esa = f['esa'][()]\n",
    "        axes[0, j].plot(times, temp, '-', lw=2)\n",
    "        axes[1, j].plot(t, a, '-', lw=2)\n",
    "        axes[2, j].plot(times, esa, '-', lw=2)\n",
    "for i, ax in enumerate(axes[0]):\n",
    "    ax.set_title(unique_years[i], fontsize=18)\n",
    "    ax.set_xticks([-30, -20, -10, 0, 10, 20, 30])\n",
    "    ax.set_xticklabels([])\n",
    "    if i == 0:\n",
    "        ax.set_ylabel(\"FPTEMP ($^\\circ$C)\")\n",
    "    else:\n",
    "        ax.set_yticklabels([])\n",
    "    ax.set_ylim(-120, -75)\n",
    "    ax.axvline(0.0, lw=2, color='k', ls='--')\n",
    "    ax.tick_params(which='major', width=2, length=6)\n",
    "for i, ax in enumerate(axes[1]):\n",
    "    ax.set_xticks([-30, -20, -10, 0, 10, 20, 30])\n",
    "    ax.set_xticklabels([])\n",
    "    ax.set_yscale(\"log\")\n",
    "    ax.set_ylim(800, 1.0e5)\n",
    "    if i == 0:\n",
    "        ax.set_ylabel(\"Altitude (km)\")\n",
    "    else:\n",
    "        ax.set_yticklabels([])\n",
    "    ax.axvline(0.0, lw=2, color='k', ls='--')\n",
    "    ax.tick_params(which='major', width=2, length=6)\n",
    "    ax.tick_params(which='minor', width=2, length=3)\n",
    "for i, ax in enumerate(axes[2]):\n",
    "    ax.set_xticks([-30, -20, -10, 0, 10, 20, 30])\n",
    "    ax.set_yscale(\"log\")\n",
    "    ax.set_ylim(1.0e-4, 6)\n",
    "    if i == 0:\n",
    "        ax.set_ylabel(\"Earth Solid Angle (sr)\")\n",
    "    else:\n",
    "        ax.set_yticklabels([])\n",
    "    ax.axvline(0.0, lw=2, color='k', ls='--')\n",
    "    ax.set_xlabel(\"t (ks)\")\n",
    "    ax.tick_params(which='major', width=2, length=6)\n",
    "    ax.tick_params(which='minor', width=2, length=3)\n",
    "for i in range(3):\n",
    "    for j in range(3):\n",
    "        axes[i, j].set_xlim(tmin[j], tmax[j])\n",
    "fig.subplots_adjust(wspace=0.1, hspace=0.1)\n",
    "fig.savefig(f\"2020to2024_perigees_{tini}_2020.pdf\")"
   ]
  },
  {
   "cell_type": "code",
   "execution_count": 9,
   "metadata": {},
   "outputs": [
    {
     "data": {
      "text/plain": "819"
     },
     "execution_count": 9,
     "metadata": {},
     "output_type": "execute_result"
    }
   ],
   "source": [
    "len(fns)"
   ]
  },
  {
   "cell_type": "code",
   "execution_count": 10,
   "metadata": {},
   "outputs": [
    {
     "name": "stdout",
     "output_type": "stream",
     "text": [
      "95\n"
     ]
    }
   ],
   "source": [
    "print(bad_pitches)"
   ]
  },
  {
   "cell_type": "code",
   "execution_count": 11,
   "metadata": {},
   "outputs": [
    {
     "name": "stdout",
     "output_type": "stream",
     "text": [
      "127\n"
     ]
    }
   ],
   "source": [
    "print(bad_rolls)"
   ]
  },
  {
   "cell_type": "code",
   "execution_count": null,
   "metadata": {},
   "outputs": [],
   "source": []
  }
 ],
 "metadata": {
  "kernelspec": {
   "display_name": "Python 3",
   "language": "python",
   "name": "python3"
  },
  "language_info": {
   "codemirror_mode": {
    "name": "ipython",
    "version": 3
   },
   "file_extension": ".py",
   "mimetype": "text/x-python",
   "name": "python",
   "nbconvert_exporter": "python",
   "pygments_lexer": "ipython3",
   "version": "3.8.3"
  }
 },
 "nbformat": 4,
 "nbformat_minor": 4
}